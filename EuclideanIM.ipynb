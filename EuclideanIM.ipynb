{
 "cells": [
  {
   "cell_type": "code",
   "execution_count": 1,
   "metadata": {},
   "outputs": [],
   "source": [
    "import torch as th\n",
    "import torch.nn as nn\n",
    "\n",
    "from net.EuclideanIM import EuclideanIM\n",
    "from util import train, evalu, data"
   ]
  },
  {
   "cell_type": "markdown",
   "metadata": {},
   "source": [
    "## Params"
   ]
  },
  {
   "cell_type": "code",
   "execution_count": 2,
   "metadata": {},
   "outputs": [],
   "source": [
    "default_dtype = th.float64\n",
    "th.set_default_dtype(default_dtype)\n",
    "\n",
    "if th.cuda.is_available():\n",
    "    cuda_device = th.device('cuda:0')\n",
    "    th.cuda.set_device(device=cuda_device)\n",
    "else:\n",
    "    raise Exception('No CUDA device found.')\n",
    "    \n",
    "data_path = './data/sample/'\n",
    "\n",
    "# for the sample\n",
    "label_num = 103\n",
    "vocab_size = 50000\n",
    "word_num = 200\n",
    "\n",
    "if_gru = True # otherwise use rnn\n",
    "if_log = True # log result\n",
    "\n",
    "epoch = 1\n",
    "embed_dim = 10\n",
    "\n",
    "train_batch_size = 50\n",
    "test_batch_size = 50\n",
    "lr = 1e-4"
   ]
  },
  {
   "cell_type": "code",
   "execution_count": 3,
   "metadata": {},
   "outputs": [
    {
     "name": "stdout",
     "output_type": "stream",
     "text": [
      "X_train shape torch.Size([50, 200]) y_train shape torch.Size([50, 103])\n",
      "train_batch_num 40\n",
      "X_test shape torch.Size([50, 200]) y_test shape torch.Size([50, 103])\n",
      "test_batch_num 4\n"
     ]
    }
   ],
   "source": [
    "# use pre-trained embed if avalible\n",
    "word_embed = th.rand(vocab_size, embed_dim)\n",
    "label_embed = th.rand(label_num, embed_dim)\n",
    "\n",
    "net = EuclideanIM(word_num, word_embed, label_embed, hidden_size=embed_dim, if_gru=if_gru)\n",
    "net.to(cuda_device)\n",
    "\n",
    "loss = nn.BCEWithLogitsLoss()\n",
    "optim = th.optim.Adam(net.parameters(), lr=lr)\n",
    "\n",
    "train_data_loader, test_data_loader = data.load_data(data_path, train_batch_size, test_batch_size, word_num)"
   ]
  },
  {
   "cell_type": "code",
   "execution_count": 4,
   "metadata": {},
   "outputs": [
    {
     "name": "stderr",
     "output_type": "stream",
     "text": [
      "train epoch:   0%|          | 0/1 [00:00<?, ?it/s]\n",
      "batch: 0it [00:00, ?it/s]\u001b[A\n",
      "batch: 5it [00:00, 44.41it/s]\u001b[A\n",
      "batch: 11it [00:00, 46.32it/s]\u001b[A\n",
      "batch: 17it [00:00, 48.17it/s]\u001b[A\n",
      "batch: 23it [00:00, 49.78it/s]\u001b[A\n",
      "batch: 29it [00:00, 51.18it/s]\u001b[A\n",
      "batch: 35it [00:00, 52.25it/s]\u001b[A\n",
      "train epoch: 100%|██████████| 1/1 [00:00<00:00,  1.28it/s]"
     ]
    },
    {
     "name": "stdout",
     "output_type": "stream",
     "text": [
      "epoch 1 \tloss 7.714317296591151\n"
     ]
    },
    {
     "name": "stderr",
     "output_type": "stream",
     "text": [
      "\n"
     ]
    }
   ],
   "source": [
    "train.train(epoch, net, loss, optim, if_hyper=False, if_neg_samp=False, train_data_loader=train_data_loader)"
   ]
  },
  {
   "cell_type": "code",
   "execution_count": 5,
   "metadata": {},
   "outputs": [
    {
     "name": "stderr",
     "output_type": "stream",
     "text": [
      "evaluating: 4it [00:00, 32.97it/s]"
     ]
    },
    {
     "name": "stdout",
     "output_type": "stream",
     "text": [
      "P@1\t1.000\t\tP@3\t2.500\t\tP@5\t2.400\n",
      "nDCG@1\t1.000\t\tnDCG@3\t2.193\t\tnDCG@5\t2.579\n"
     ]
    },
    {
     "name": "stderr",
     "output_type": "stream",
     "text": [
      "\n"
     ]
    }
   ],
   "source": [
    "evalu.evaluate(net, if_log=if_log, test_data_loader=test_data_loader)"
   ]
  },
  {
   "cell_type": "code",
   "execution_count": null,
   "metadata": {},
   "outputs": [],
   "source": []
  }
 ],
 "metadata": {
  "kernelspec": {
   "display_name": "Python 3",
   "language": "python",
   "name": "python3"
  },
  "language_info": {
   "codemirror_mode": {
    "name": "ipython",
    "version": 3
   },
   "file_extension": ".py",
   "mimetype": "text/x-python",
   "name": "python",
   "nbconvert_exporter": "python",
   "pygments_lexer": "ipython3",
   "version": "3.7.3"
  }
 },
 "nbformat": 4,
 "nbformat_minor": 4
}
