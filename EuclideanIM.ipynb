{
 "cells": [
  {
   "cell_type": "code",
   "execution_count": 1,
   "metadata": {},
   "outputs": [],
   "source": [
    "import torch.nn as nn\n",
    "\n",
    "from net.EuclideanIM import EuclideanIM\n",
    "from util import train, evalu, data\n",
    "from params import *"
   ]
  },
  {
   "cell_type": "code",
   "execution_count": 2,
   "metadata": {},
   "outputs": [
    {
     "name": "stdout",
     "output_type": "stream",
     "text": [
      "X_train shape torch.Size([50, 120]) y_train shape torch.Size([50, 103])\n",
      "train_batch_num 40\n",
      "X_test shape torch.Size([50, 120]) y_test shape torch.Size([50, 103])\n",
      "test_batch_num 4\n",
      "train/test split 0.9090909090909091\n"
     ]
    }
   ],
   "source": [
    "# use pre-trained embed if avalible\n",
    "word_embed = th.rand(vocab_size, embed_dim)\n",
    "label_embed = th.rand(label_num, embed_dim)\n",
    "\n",
    "net = EuclideanIM(word_num, word_embed, label_embed, hidden_size=embed_dim, if_gru=if_gru)\n",
    "net.to(cuda_device)\n",
    "\n",
    "loss = nn.BCEWithLogitsLoss()\n",
    "optim = th.optim.Adam(net.parameters(), lr=lr)\n",
    "\n",
    "train_data_loader, test_data_loader = data.load_data(data_path, train_batch_size, test_batch_size, word_num)"
   ]
  },
  {
   "cell_type": "code",
   "execution_count": 3,
   "metadata": {},
   "outputs": [
    {
     "name": "stderr",
     "output_type": "stream",
     "text": [
      "train epoch:   0%|          | 0/1 [00:00<?, ?it/s]\n",
      "batch: 0it [00:00, ?it/s]\u001b[A\n",
      "batch: 1it [00:00,  1.07it/s]\u001b[A\n",
      "batch: 2it [00:01,  1.11it/s]\u001b[A\n",
      "batch: 3it [00:02,  1.11it/s]\u001b[A\n",
      "batch: 4it [00:03,  1.13it/s]\u001b[A\n",
      "batch: 5it [00:04,  1.12it/s]\u001b[A\n",
      "batch: 6it [00:05,  1.14it/s]\u001b[A\n",
      "batch: 7it [00:06,  1.11it/s]\u001b[A\n",
      "batch: 8it [00:07,  1.12it/s]\u001b[A\n",
      "batch: 9it [00:08,  1.11it/s]\u001b[A\n",
      "batch: 10it [00:08,  1.11it/s]\u001b[A\n",
      "batch: 11it [00:09,  1.11it/s]\u001b[A\n",
      "batch: 12it [00:10,  1.11it/s]\u001b[A\n",
      "batch: 13it [00:11,  1.13it/s]\u001b[A\n",
      "batch: 14it [00:12,  1.13it/s]\u001b[A\n",
      "batch: 15it [00:13,  1.14it/s]\u001b[A\n",
      "batch: 16it [00:14,  1.14it/s]\u001b[A\n",
      "batch: 17it [00:15,  1.14it/s]\u001b[A\n",
      "batch: 18it [00:15,  1.13it/s]\u001b[A\n",
      "batch: 19it [00:16,  1.15it/s]\u001b[A\n",
      "batch: 20it [00:17,  1.15it/s]\u001b[A\n",
      "batch: 21it [00:18,  1.16it/s]\u001b[A\n",
      "batch: 22it [00:19,  1.25it/s]\u001b[A\n",
      "batch: 23it [00:19,  1.56it/s]\u001b[A\n",
      "batch: 24it [00:19,  1.90it/s]\u001b[A\n",
      "batch: 25it [00:19,  2.25it/s]\u001b[A\n",
      "batch: 26it [00:20,  2.55it/s]\u001b[A\n",
      "batch: 27it [00:20,  2.81it/s]\u001b[A\n",
      "batch: 28it [00:20,  3.02it/s]\u001b[A\n",
      "batch: 29it [00:21,  3.14it/s]\u001b[A\n",
      "batch: 30it [00:21,  3.30it/s]\u001b[A\n",
      "batch: 31it [00:21,  3.35it/s]\u001b[A\n",
      "batch: 32it [00:21,  3.40it/s]\u001b[A\n",
      "batch: 33it [00:22,  3.39it/s]\u001b[A\n",
      "batch: 34it [00:22,  3.46it/s]\u001b[A\n",
      "batch: 35it [00:22,  3.41it/s]\u001b[A\n",
      "batch: 36it [00:23,  3.26it/s]\u001b[A\n",
      "batch: 37it [00:23,  3.67it/s]\u001b[A\n",
      "batch: 38it [00:23,  4.23it/s]\u001b[A\n",
      "batch: 39it [00:23,  4.71it/s]\u001b[A\n",
      "train epoch: 100%|██████████| 1/1 [00:23<00:00, 23.78s/it]"
     ]
    },
    {
     "name": "stdout",
     "output_type": "stream",
     "text": [
      "epoch 1\n",
      "P@1\t1.200\t\tP@3\t2.200\t\tP@5\t2.660\n",
      "nDCG@1\t1.200\t\tnDCG@3\t2.214\t\tnDCG@5\t3.340\n"
     ]
    },
    {
     "name": "stderr",
     "output_type": "stream",
     "text": [
      "\n"
     ]
    }
   ],
   "source": [
    "train.train_EuclideanIM(epoch, net, train_data_loader, loss, optim)"
   ]
  },
  {
   "cell_type": "code",
   "execution_count": 4,
   "metadata": {},
   "outputs": [
    {
     "name": "stderr",
     "output_type": "stream",
     "text": [
      "evaluating: 4it [00:00, 11.59it/s]"
     ]
    },
    {
     "name": "stdout",
     "output_type": "stream",
     "text": [
      "P@1\t0.500\t\tP@3\t2.667\t\tP@5\t3.300\n",
      "nDCG@1\t0.500\t\tnDCG@3\t2.199\t\tnDCG@5\t3.649\n"
     ]
    },
    {
     "name": "stderr",
     "output_type": "stream",
     "text": [
      "\n"
     ]
    }
   ],
   "source": [
    "evalu.evaluate(net, test_data_loader)"
   ]
  },
  {
   "cell_type": "code",
   "execution_count": null,
   "metadata": {},
   "outputs": [],
   "source": []
  }
 ],
 "metadata": {
  "kernelspec": {
   "display_name": "Python 3",
   "language": "python",
   "name": "python3"
  },
  "language_info": {
   "codemirror_mode": {
    "name": "ipython",
    "version": 3
   },
   "file_extension": ".py",
   "mimetype": "text/x-python",
   "name": "python",
   "nbconvert_exporter": "python",
   "pygments_lexer": "ipython3",
   "version": "3.7.3"
  }
 },
 "nbformat": 4,
 "nbformat_minor": 2
}
